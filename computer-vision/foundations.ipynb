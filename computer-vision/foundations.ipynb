{
 "cells": [
  {
   "cell_type": "code",
   "execution_count": null,
   "metadata": {},
   "outputs": [],
   "source": [
    "from pathlib import Path\n",
    "from PIL import Image"
   ]
  },
  {
   "cell_type": "markdown",
   "metadata": {},
   "source": [
    "### Opening an image\n",
    "* Task: open `buildings.jpg` image in the `images` directory\n",
    "* Task: display the image"
   ]
  },
  {
   "cell_type": "code",
   "execution_count": null,
   "metadata": {},
   "outputs": [],
   "source": [
    "filename = Path(\n",
    "    \"computer-vision\",\n",
    "    \"images\",\n",
    "    \"buildings.jpg\",\n",
    ")\n",
    "\n",
    "img = Image.open(filename)"
   ]
  },
  {
   "cell_type": "code",
   "execution_count": null,
   "metadata": {},
   "outputs": [],
   "source": [
    "display(img)"
   ]
  },
  {
   "cell_type": "markdown",
   "metadata": {},
   "source": [
    "### Get image key properties\n",
    "* Task 1: print out the image format (type of the image)\n",
    "* Task 2: print out the image size (width and height of the image in pixels)\n",
    "* Task 3: print out the image mode (color space)"
   ]
  },
  {
   "cell_type": "code",
   "execution_count": null,
   "metadata": {},
   "outputs": [],
   "source": [
    "\"\"\"Task 1 code here:\"\"\"\n",
    "img.format"
   ]
  },
  {
   "cell_type": "code",
   "execution_count": null,
   "metadata": {},
   "outputs": [],
   "source": [
    "\"\"\"Task 2 code here:\"\"\"\n",
    "img.size"
   ]
  },
  {
   "cell_type": "code",
   "execution_count": null,
   "metadata": {},
   "outputs": [],
   "source": [
    "\"\"\"Task 3 code here:\"\"\"\n",
    "img.mode"
   ]
  },
  {
   "cell_type": "markdown",
   "metadata": {},
   "source": [
    "### Crop image\n",
    "\n",
    "* Task 1: crop the image to `300, 150, 700, 1000`\n",
    "* Task 2: display the cropped image\n",
    "\n",
    "![](https://files.realpython.com/media/pillow_coordinate_crop2.15af40c34f15.png)"
   ]
  },
  {
   "cell_type": "code",
   "execution_count": null,
   "metadata": {},
   "outputs": [],
   "source": [
    "\"\"\"Task 1 code here:\"\"\"\n",
    "img_cropped = img.crop((300, 150, 700, 1000))"
   ]
  },
  {
   "cell_type": "code",
   "execution_count": null,
   "metadata": {},
   "outputs": [],
   "source": [
    "\"\"\"Task 2 code here:\"\"\"\n",
    "display(img_cropped)"
   ]
  },
  {
   "cell_type": "markdown",
   "metadata": {},
   "source": []
  },
  {
   "cell_type": "markdown",
   "metadata": {},
   "source": [
    "### Resize image\n",
    "* Task 1: resize the image to 1/4 of the current size using `resize`\n",
    "* Task 2: display the resized image\n",
    "* Task 3: print out the resized image size"
   ]
  },
  {
   "cell_type": "code",
   "execution_count": null,
   "metadata": {},
   "outputs": [],
   "source": [
    "\"\"\"Task 1 code here:\"\"\"\n",
    "img_low_res = img_cropped.resize(\n",
    "    (\n",
    "        img_cropped.width // 4,\n",
    "        img_cropped.height // 4,\n",
    "    )\n",
    ")"
   ]
  },
  {
   "cell_type": "code",
   "execution_count": null,
   "metadata": {},
   "outputs": [],
   "source": [
    "\"\"\"Task 2 code here:\"\"\"\n",
    "display(img_low_res)"
   ]
  },
  {
   "cell_type": "code",
   "execution_count": null,
   "metadata": {},
   "outputs": [],
   "source": [
    "\"\"\"Task 3 code here:\"\"\"\n",
    "img_low_res.size"
   ]
  },
  {
   "cell_type": "markdown",
   "metadata": {},
   "source": [
    "* Task 1: resize the image using `reduce`\n",
    "* Task 2: display the resized image\n",
    "* Task 3: print out the resized image size"
   ]
  },
  {
   "cell_type": "code",
   "execution_count": null,
   "metadata": {},
   "outputs": [],
   "source": [
    "\"\"\"Task 1 code here:\"\"\"\n",
    "img_low_res = img_cropped.reduce(4)"
   ]
  },
  {
   "cell_type": "code",
   "execution_count": null,
   "metadata": {},
   "outputs": [],
   "source": [
    "\"\"\"Task 2 code here:\"\"\"\n",
    "display(img_low_res)"
   ]
  },
  {
   "cell_type": "code",
   "execution_count": null,
   "metadata": {},
   "outputs": [],
   "source": [
    "\"\"\"Task 3 code here:\"\"\"\n",
    "img_low_res.size"
   ]
  },
  {
   "cell_type": "markdown",
   "metadata": {},
   "source": [
    "### Save image\n",
    "* Task: save the processed image into a new image"
   ]
  },
  {
   "cell_type": "code",
   "execution_count": null,
   "metadata": {},
   "outputs": [],
   "source": [
    "\"\"\"Task code here:\"\"\"\n",
    "filename = Path(\n",
    "    \"computer-vision\",\n",
    "    \"images\",\n",
    "    \"buildings_processed.jpg\",\n",
    ")\n",
    "\n",
    "img_cropped.save(filename)"
   ]
  },
  {
   "cell_type": "markdown",
   "metadata": {},
   "source": [
    "### Image Manipulation \n",
    "\n",
    "* Task 1: flip the image top bottom\n",
    "* Task 2: flip the image left right\n",
    "* Task 3: rotate the image 90 degrees\n",
    "* Task 4: rotate the image 180 degrees\n",
    "* Task 5: rotate the image 45 degrees\n",
    "* Task 6: rotate the image 45 degrees and keep the corners of the image"
   ]
  },
  {
   "cell_type": "code",
   "execution_count": null,
   "metadata": {},
   "outputs": [],
   "source": [
    "\"\"\"Task 1 code here:\"\"\"\n",
    "img.transpose(Image.FLIP_TOP_BOTTOM)"
   ]
  },
  {
   "cell_type": "code",
   "execution_count": null,
   "metadata": {},
   "outputs": [],
   "source": [
    "\"\"\"Task 2 code here:\"\"\"\n",
    "img.transpose(Image.FLIP_LEFT_RIGHT)"
   ]
  },
  {
   "cell_type": "code",
   "execution_count": null,
   "metadata": {},
   "outputs": [],
   "source": [
    "\"\"\"Task 3 code here:\"\"\"\n",
    "img.transpose(Image.ROTATE_90)"
   ]
  },
  {
   "cell_type": "code",
   "execution_count": null,
   "metadata": {},
   "outputs": [],
   "source": [
    "\"\"\"Task 4 code here:\"\"\"\n",
    "img.transpose(Image.ROTATE_180)"
   ]
  },
  {
   "cell_type": "code",
   "execution_count": null,
   "metadata": {},
   "outputs": [],
   "source": [
    "\"\"\"Task 5 code here:\"\"\"\n",
    "img.rotate(45)"
   ]
  },
  {
   "cell_type": "code",
   "execution_count": null,
   "metadata": {},
   "outputs": [],
   "source": [
    "\"\"\"Task 6 code here:\"\"\"\n",
    "img.rotate(45, expand=True)"
   ]
  },
  {
   "cell_type": "markdown",
   "metadata": {},
   "source": [
    "### Image bands and modes\n",
    "\n",
    "What are these?\n",
    "\n",
    "* An image is a two-dimensional array of pixels, where each pixel corresponds to a color\n",
    "* Each pixel can be represented by one or more values\n",
    "* An image with an `RGB` mode, each pixel is represented by three values corresponding to the red, green, and blue values for that pixel\n",
    "* Therefore, the `Image` object for an `RBG` image contains three bands"
   ]
  },
  {
   "cell_type": "markdown",
   "metadata": {},
   "source": [
    "* Task 1: read and display the `strawberry.jpg` image\n",
    "* Task 2: print out the image bands"
   ]
  },
  {
   "cell_type": "code",
   "execution_count": null,
   "metadata": {},
   "outputs": [],
   "source": [
    "\"\"\"Task 1 code here:\"\"\"\n",
    "filename = Path(\n",
    "    \"computer-vision\",\n",
    "    \"images\",\n",
    "    \"strawberry.jpg\",\n",
    ")\n",
    "\n",
    "img = Image.open(filename)\n",
    "img"
   ]
  },
  {
   "cell_type": "code",
   "execution_count": null,
   "metadata": {},
   "outputs": [],
   "source": [
    "\"\"\"Task 2 code here:\"\"\"\n",
    "img.getbands()"
   ]
  },
  {
   "cell_type": "markdown",
   "metadata": {},
   "source": [
    "* Task 1: Split the bands into red, green, and blue using `.split()`\n",
    "* Task 2: Create a band containing zeros everywhere using `.point()` and `lambda`\n",
    "* Task 3: Create three new RGB images showing the red, green, and blue channels separately using `Image.merge()`\n",
    "* Task 4: repeat task 2 to show green only image\n",
    "* Task 5: repeat task 2 to show blue only image"
   ]
  },
  {
   "cell_type": "code",
   "execution_count": null,
   "metadata": {},
   "outputs": [],
   "source": [
    "\"\"\"Task 1 code here:\"\"\"\n",
    "red, green, blue = img.split()"
   ]
  },
  {
   "cell_type": "code",
   "execution_count": null,
   "metadata": {},
   "outputs": [],
   "source": [
    "\"\"\"Task 2 code here:\"\"\"\n",
    "zeroed_band = red.point(lambda _: 0)\n",
    "zeroed_band"
   ]
  },
  {
   "cell_type": "code",
   "execution_count": null,
   "metadata": {},
   "outputs": [],
   "source": [
    "\"\"\"Task 3 code here:\"\"\"\n",
    "red_merge = Image.merge(\"RGB\", (red, zeroed_band, zeroed_band))\n",
    "red_merge"
   ]
  },
  {
   "cell_type": "code",
   "execution_count": null,
   "metadata": {},
   "outputs": [],
   "source": [
    "\"\"\"Task 4 code here:\"\"\"\n",
    "green_merge = Image.merge(\"RGB\", (zeroed_band, green, zeroed_band))\n",
    "green_merge"
   ]
  },
  {
   "cell_type": "code",
   "execution_count": null,
   "metadata": {},
   "outputs": [],
   "source": [
    "\"\"\"Task 5 code here:\"\"\"\n",
    "blue_merge = Image.merge(\"RGB\", (zeroed_band, zeroed_band, blue))\n",
    "blue_merge"
   ]
  }
 ],
 "metadata": {
  "kernelspec": {
   "display_name": ".venv",
   "language": "python",
   "name": "python3"
  },
  "language_info": {
   "codemirror_mode": {
    "name": "ipython",
    "version": 3
   },
   "file_extension": ".py",
   "mimetype": "text/x-python",
   "name": "python",
   "nbconvert_exporter": "python",
   "pygments_lexer": "ipython3",
   "version": "3.10.11"
  }
 },
 "nbformat": 4,
 "nbformat_minor": 2
}
