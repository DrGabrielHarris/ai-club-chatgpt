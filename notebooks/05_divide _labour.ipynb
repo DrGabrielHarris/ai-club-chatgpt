{
 "cells": [
  {
   "cell_type": "code",
   "execution_count": null,
   "metadata": {},
   "outputs": [],
   "source": [
    "import ast\n",
    "import os\n",
    "\n",
    "from dotenv import load_dotenv\n",
    "from openai import OpenAI"
   ]
  },
  {
   "cell_type": "code",
   "execution_count": null,
   "metadata": {},
   "outputs": [],
   "source": [
    "load_dotenv(\".env\")\n",
    "api_key = os.getenv(\"OPENAI_API_KEY\")\n",
    "\n",
    "client = OpenAI(api_key=api_key)"
   ]
  },
  {
   "cell_type": "code",
   "execution_count": null,
   "metadata": {},
   "outputs": [],
   "source": [
    "def get_completion(prompt):\n",
    "    completion = client.chat.completions.create(\n",
    "        model=\"gpt-4o-mini\",\n",
    "        messages=[{\"role\": \"user\", \"content\": prompt}],\n",
    "        max_tokens=1000,\n",
    "        temperature=0.9,\n",
    "        response_format={\n",
    "            \"type\": \"text\",\n",
    "        },\n",
    "    )\n",
    "\n",
    "    completion = completion.to_dict()\n",
    "\n",
    "    content = completion[\"choices\"][0][\"message\"][\"content\"]\n",
    "\n",
    "    return content"
   ]
  },
  {
   "cell_type": "code",
   "execution_count": null,
   "metadata": {},
   "outputs": [],
   "source": [
    "def generate_image(prompt):\n",
    "    response = client.images.generate(\n",
    "        model=\"dall-e-2\",\n",
    "        prompt=prompt,\n",
    "        size=\"1024x1024\",\n",
    "        n=1,\n",
    "    )\n",
    "\n",
    "    url = response.data[0].url\n",
    "\n",
    "    return url"
   ]
  },
  {
   "cell_type": "markdown",
   "metadata": {},
   "source": [
    "#### 5. Divide Labour"
   ]
  },
  {
   "cell_type": "markdown",
   "metadata": {},
   "source": [
    "* Whe your prompt gets longer and more convoluted, the response might get less deterministic, and hallucinations or anomalies increase.\n",
    "\n",
    "* One of the core principles of engineering is to use *task decomposition* to break a problem down into their component parts, so we can easily solve each individual part.\n",
    "\n",
    "* Breaking your AI work into multiple calls that are chained together can help accomplishing more complex tasks"
   ]
  },
  {
   "cell_type": "markdown",
   "metadata": {},
   "source": [
    "<span style=\"color:green\">\n",
    "Task 1: ask ChatGPT to generate a list of 10 product names as before.\n",
    "</span>"
   ]
  },
  {
   "cell_type": "code",
   "execution_count": null,
   "metadata": {},
   "outputs": [],
   "source": [
    "prompt = \"\"\"\n",
    "Brainstorm a list of 10 product names for a pair of trainers that appeal to teenagers, in the style of Nike.\n",
    "\n",
    "Return the response in this format: [\"Name 1\", ..., \"Name 10\"].\n",
    "\"\"\"\n",
    "\n",
    "names = get_completion(prompt)\n",
    "names = ast.literal_eval(names)\n",
    "names"
   ]
  },
  {
   "cell_type": "markdown",
   "metadata": {},
   "source": [
    "<span style=\"color:green\">\n",
    "Task 2: Rate each of the result out of 10.\n",
    "</span>"
   ]
  },
  {
   "cell_type": "code",
   "execution_count": null,
   "metadata": {},
   "outputs": [],
   "source": [
    "prompt = \"\"\"\n",
    "...\n",
    "\"\"\"\n",
    "\n",
    "rating = get_completion(prompt)\n",
    "rating = ast.literal_eval(rating)\n",
    "rating"
   ]
  },
  {
   "cell_type": "markdown",
   "metadata": {},
   "source": [
    "<span style=\"color:green\">\n",
    "Task 3: append <code>let's think step by step</code> to understand how the rates where generated.\n",
    "</span>"
   ]
  },
  {
   "cell_type": "code",
   "execution_count": null,
   "metadata": {},
   "outputs": [],
   "source": [
    "prompt = \"\"\"\n",
    "Let's think step by step. \n",
    "\n",
    "...\n",
    "\"\"\"\n",
    "\n",
    "rating = get_completion(prompt)\n",
    "rating = ast.literal_eval(rating)\n",
    "rating"
   ]
  },
  {
   "cell_type": "markdown",
   "metadata": {},
   "source": [
    "<span style=\"color:green\">\n",
    "Task 4: ask ChatGPT to choose the product name with the highest rating.\n",
    "</span>"
   ]
  },
  {
   "cell_type": "code",
   "execution_count": null,
   "metadata": {},
   "outputs": [],
   "source": [
    "prompt = \"\"\"\n",
    "...\n",
    "\"\"\"\n",
    "\n",
    "name = get_completion(prompt)\n",
    "name"
   ]
  },
  {
   "cell_type": "markdown",
   "metadata": {},
   "source": [
    "<span style=\"color:green\">\n",
    "Task 5: ask ChatGPT to describe the chosen product name with great details.\n",
    "</span>"
   ]
  },
  {
   "cell_type": "code",
   "execution_count": null,
   "metadata": {},
   "outputs": [],
   "source": [
    "prompt = \"\"\"\n",
    "...\n",
    "\"\"\"\n",
    "\n",
    "description = get_completion(prompt)\n",
    "description"
   ]
  },
  {
   "cell_type": "markdown",
   "metadata": {},
   "source": [
    "<span style=\"color:green\">\n",
    "Task 6: ask ChatGPT to convert the chosen product generated details into a short prompt for DALL-E.\n",
    "</span>"
   ]
  },
  {
   "cell_type": "code",
   "execution_count": null,
   "metadata": {},
   "outputs": [],
   "source": [
    "prompt = f\"\"\"\n",
    "...\n",
    "\n",
    "{description}\n",
    "\"\"\"\n",
    "\n",
    "generate_image(prompt)"
   ]
  }
 ],
 "metadata": {
  "kernelspec": {
   "display_name": ".venv",
   "language": "python",
   "name": "python3"
  },
  "language_info": {
   "codemirror_mode": {
    "name": "ipython",
    "version": 3
   },
   "file_extension": ".py",
   "mimetype": "text/x-python",
   "name": "python",
   "nbconvert_exporter": "python",
   "pygments_lexer": "ipython3",
   "version": "3.10.8"
  }
 },
 "nbformat": 4,
 "nbformat_minor": 2
}
