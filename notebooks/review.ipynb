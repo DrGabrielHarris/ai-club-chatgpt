{
 "cells": [
  {
   "cell_type": "code",
   "execution_count": null,
   "metadata": {},
   "outputs": [],
   "source": [
    "import ast\n",
    "import json\n",
    "import os\n",
    "\n",
    "import pandas as pd\n",
    "from dotenv import load_dotenv\n",
    "from IPython.display import display\n",
    "from openai import OpenAI"
   ]
  },
  {
   "cell_type": "code",
   "execution_count": null,
   "metadata": {},
   "outputs": [],
   "source": [
    "load_dotenv(\".env\")\n",
    "api_key = os.getenv(\"OPENAI_API_KEY\")\n",
    "\n",
    "client = OpenAI(api_key=api_key)"
   ]
  },
  {
   "cell_type": "code",
   "execution_count": null,
   "metadata": {},
   "outputs": [],
   "source": [
    "def get_completion(system_prompt, user_prompt, model=\"gpt-4o-mini\"):\n",
    "    completion = client.chat.completions.create(\n",
    "        model=model,\n",
    "        messages=[\n",
    "            {\"role\": \"system\", \"content\": system_prompt},\n",
    "            {\"role\": \"user\", \"content\": user_prompt},\n",
    "        ],\n",
    "        max_tokens=100,\n",
    "        temperature=0.9,\n",
    "        response_format={\n",
    "            \"type\": \"json_object\",\n",
    "        },\n",
    "    )\n",
    "\n",
    "    completion = completion.to_dict()\n",
    "\n",
    "    content = completion[\"choices\"][0][\"message\"][\"content\"]\n",
    "\n",
    "    return content"
   ]
  },
  {
   "cell_type": "markdown",
   "metadata": {},
   "source": [
    "#### AI Application: Customers Reviews Insider \n",
    "\n",
    "`reviews.csv` has been created by collecting a number of reviews of an *Apple iPhone 16 Pro* on [Amazon](https://www.amazon.co.uk/Apple-iPhone-16-Pro-128/dp/B0DGHSYPYK/ref=cm_cr_arp_d_product_top?ie=UTF8)\n",
    "\n",
    "Let's develop an AI application that can:\n",
    "\n",
    "1. Analyse Sentiment of a given review, also known as **Sentiment Analysis**\n",
    "2. Extract the main topics of a given review, also known as **Topics Extraction**\n",
    "3. Classify the main topics into a number of categories, also known as **Text Categorisation**\n",
    "4. Summarise what the customers are saying, also known as **Text Summarisation**"
   ]
  },
  {
   "cell_type": "code",
   "execution_count": null,
   "metadata": {},
   "outputs": [],
   "source": [
    "reviews = pd.read_csv(\"data/reviews.csv\", encoding=\"ISO-8859-1\")\n",
    "display(reviews)"
   ]
  },
  {
   "cell_type": "code",
   "execution_count": null,
   "metadata": {},
   "outputs": [],
   "source": [
    "review = reviews.iloc[0][[\"title\", \"review\"]].to_dict()\n",
    "display(review)"
   ]
  },
  {
   "cell_type": "markdown",
   "metadata": {},
   "source": [
    "**1. Sentiment Analysis**\n",
    "\n",
    "Sentiment analysis is a very widely used technique to determine the attitude or emotional tone conveyed in the text, whether it's positive, negative, or neutral.\n",
    "\n",
    "**Tasks**: \n",
    "\n",
    "1. Write a system prompt with the task of detecting the Sentiment of a review. The output should be a structured `JSON` in this format:\n",
    "\n",
    "```json\n",
    "{\n",
    "    \"sentiment\": \"positive, negative, or neutral\"\n",
    "}\n",
    "```\n",
    "\n",
    "2. Write a user prompt to detect the sentiment of a specific review.\n",
    "3. Test your prompt for one review.\n",
    "4. Turn your code into a `get_sentiment` function.\n",
    "5. Use your function to get the sentiment for all reviews.\n",
    "6. Manually validate the detected sentiment.\n",
    "7. Extra: can you think of techniques to preprocess the review in order to improve the accuracy? "
   ]
  },
  {
   "cell_type": "code",
   "execution_count": null,
   "metadata": {},
   "outputs": [],
   "source": [
    "system_prompt = \"\"\"\n",
    "You are an experienced customer service representative for a large online retailer. Your task is to review a customer review and determine its sentiment. \n",
    "\n",
    "Return the response as a json in this format:\n",
    "{\n",
    "    \"sentiment\": \"positive, negative, or neutral\"\n",
    "}\n",
    "\"\"\"\n",
    "system_prompt"
   ]
  },
  {
   "cell_type": "code",
   "execution_count": null,
   "metadata": {},
   "outputs": [],
   "source": [
    "user_prompt = f\"\"\"\n",
    "Please determine the sentiment of the following review which also includes the title:\n",
    "\n",
    "{review}\n",
    "\"\"\"\n",
    "user_prompt"
   ]
  },
  {
   "cell_type": "code",
   "execution_count": null,
   "metadata": {},
   "outputs": [],
   "source": [
    "completion = get_completion(system_prompt, user_prompt)\n",
    "completion = json.loads(completion)\n",
    "print(completion)"
   ]
  },
  {
   "cell_type": "code",
   "execution_count": null,
   "metadata": {},
   "outputs": [],
   "source": [
    "def get_sentiment(review):\n",
    "    system_prompt = \"\"\"\n",
    "    You are an experienced customer service representative for a large online retailer. Your task is to review a customer review and determine its sentiment. \n",
    "\n",
    "    Return the response as a json in this format:\n",
    "    {\n",
    "        \"sentiment\": \"positive, negative, or neutral\"\n",
    "    }\n",
    "    \"\"\"\n",
    "\n",
    "    user_prompt = f\"\"\"\n",
    "    Please determine the sentiment of the following review which also includes the title:\n",
    "\n",
    "    {review}\n",
    "    \"\"\"\n",
    "    completion = get_completion(system_prompt, user_prompt)\n",
    "    completion = json.loads(completion)\n",
    "    return completion[\"sentiment\"]"
   ]
  },
  {
   "cell_type": "code",
   "execution_count": null,
   "metadata": {},
   "outputs": [],
   "source": [
    "for ind, row in reviews.iterrows():\n",
    "    review = row[[\"title\", \"review\"]].to_dict()\n",
    "    sentiment = get_sentiment(review)\n",
    "    reviews.loc[ind, \"sentiment\"] = sentiment"
   ]
  },
  {
   "cell_type": "code",
   "execution_count": null,
   "metadata": {},
   "outputs": [],
   "source": [
    "display(reviews)"
   ]
  },
  {
   "cell_type": "markdown",
   "metadata": {},
   "source": [
    "Techniques to improve accuracy:\n",
    "1. Remove special characters such as emojis and hashtags\n",
    "2. Lowercase all text to create uniformity\n",
    "3. Correct spelling errors "
   ]
  },
  {
   "cell_type": "markdown",
   "metadata": {},
   "source": [
    "**2. Topics Extraction**"
   ]
  },
  {
   "cell_type": "markdown",
   "metadata": {},
   "source": [
    "Topics Extraction helps in identifying the main themes or topics within a text.\n",
    "\n",
    "**Tasks**: \n",
    "\n",
    "1. Write a system prompt with the task of extracting the main topics of a review. The output should be a structured `JSON` in this format:\n",
    "\n",
    "```json\n",
    "{\n",
    "    \"topics\": [list of extracted topics]\n",
    "}\n",
    "```\n",
    "\n",
    "2. Write a user prompt to extract the topics of a specific review.\n",
    "3. Test your prompt for one review.\n",
    "4. Turn your code into a `get_topics` function.\n",
    "5. Use your function to get the topics for all reviews.\n",
    "6. Manually validate the extracted topics."
   ]
  },
  {
   "cell_type": "code",
   "execution_count": null,
   "metadata": {},
   "outputs": [],
   "source": [
    "system_prompt = \"\"\"\n",
    "\n",
    "\"\"\"\n",
    "system_prompt"
   ]
  },
  {
   "cell_type": "code",
   "execution_count": null,
   "metadata": {},
   "outputs": [],
   "source": [
    "user_prompt = f\"\"\"\n",
    "{review}\n",
    "\"\"\"\n",
    "user_prompt"
   ]
  },
  {
   "cell_type": "code",
   "execution_count": null,
   "metadata": {},
   "outputs": [],
   "source": [
    "completion = get_completion(system_prompt, user_prompt)\n",
    "completion = json.loads(completion)\n",
    "print(completion)"
   ]
  },
  {
   "cell_type": "code",
   "execution_count": null,
   "metadata": {},
   "outputs": [],
   "source": [
    "def get_topics(review):\n",
    "    system_prompt = \"\"\"\n",
    "    \"\"\"\n",
    "\n",
    "    user_prompt = f\"\"\"\n",
    "    {review}\n",
    "    \"\"\"\n",
    "    completion = get_completion(system_prompt, user_prompt)\n",
    "    completion = json.loads(completion)\n",
    "    return completion[\"topics\"]"
   ]
  },
  {
   "cell_type": "code",
   "execution_count": null,
   "metadata": {},
   "outputs": [],
   "source": [
    "for ind, row in reviews.iterrows():\n",
    "    review = row[[\"title\", \"review\"]].to_dict()\n",
    "    topics = get_topics(...)\n",
    "    reviews.loc[ind, \"topics\"] = str(...)"
   ]
  },
  {
   "cell_type": "code",
   "execution_count": null,
   "metadata": {},
   "outputs": [],
   "source": [
    "display(reviews)"
   ]
  },
  {
   "cell_type": "markdown",
   "metadata": {},
   "source": [
    "**3. Themes Extraction**\n",
    "\n",
    "**Tasks**: \n",
    "\n",
    "1. Write a system prompt with the task of identifying the top 10 main themes across all extracted topics. The output should be a structured `JSON` in this format:\n",
    "\n",
    "```json\n",
    "{\n",
    "    \"themes\": [list of 10 identified themes]\n",
    "}\n",
    "```\n",
    "\n",
    "2. Write a user prompt to identify the themes from all extracted topics.\n",
    "3. Test your prompt.\n",
    "4. Turn your code into a `get_themes` function.\n",
    "5. Manually validate the extracted topics."
   ]
  },
  {
   "cell_type": "code",
   "execution_count": null,
   "metadata": {},
   "outputs": [],
   "source": [
    "system_prompt = \"\"\"\n",
    "\n",
    "\"\"\"\n",
    "system_prompt"
   ]
  },
  {
   "cell_type": "code",
   "execution_count": null,
   "metadata": {},
   "outputs": [],
   "source": [
    "topics = reviews[\"topics\"].apply(lambda x: ast.literal_eval(x)).to_list()\n",
    "topics"
   ]
  },
  {
   "cell_type": "code",
   "execution_count": null,
   "metadata": {},
   "outputs": [],
   "source": [
    "user_prompt = f\"\"\"\n",
    "{topics}\n",
    "\"\"\"\n",
    "user_prompt"
   ]
  },
  {
   "cell_type": "code",
   "execution_count": null,
   "metadata": {},
   "outputs": [],
   "source": [
    "completion = get_completion(system_prompt, user_prompt)\n",
    "completion = json.loads(completion)"
   ]
  },
  {
   "cell_type": "code",
   "execution_count": null,
   "metadata": {},
   "outputs": [],
   "source": [
    "completion"
   ]
  }
 ],
 "metadata": {
  "kernelspec": {
   "display_name": ".venv",
   "language": "python",
   "name": "python3"
  },
  "language_info": {
   "codemirror_mode": {
    "name": "ipython",
    "version": 3
   },
   "file_extension": ".py",
   "mimetype": "text/x-python",
   "name": "python",
   "nbconvert_exporter": "python",
   "pygments_lexer": "ipython3",
   "version": "3.10.11"
  }
 },
 "nbformat": 4,
 "nbformat_minor": 2
}
