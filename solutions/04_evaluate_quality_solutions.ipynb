{
 "cells": [
  {
   "cell_type": "code",
   "execution_count": null,
   "metadata": {},
   "outputs": [],
   "source": [
    "import os\n",
    "\n",
    "import ipywidgets as widgets\n",
    "import pandas as pd\n",
    "from dotenv import load_dotenv\n",
    "from IPython.display import display\n",
    "from openai import OpenAI"
   ]
  },
  {
   "cell_type": "code",
   "execution_count": null,
   "metadata": {},
   "outputs": [],
   "source": [
    "load_dotenv(\".env\")\n",
    "api_key = os.getenv(\"OPENAI_API_KEY\")\n",
    "\n",
    "client = OpenAI(api_key=api_key)"
   ]
  },
  {
   "cell_type": "code",
   "execution_count": null,
   "metadata": {},
   "outputs": [],
   "source": [
    "def get_completion(prompt):\n",
    "    completion = client.chat.completions.create(\n",
    "        model=\"gpt-4o-mini\",\n",
    "        messages=[{\"role\": \"user\", \"content\": prompt}],\n",
    "        max_tokens=100,\n",
    "        temperature=0.9,\n",
    "        response_format={\n",
    "            \"type\": \"text\",\n",
    "        },\n",
    "    )\n",
    "\n",
    "    completion = completion.to_dict()\n",
    "\n",
    "    content = completion[\"choices\"][0][\"message\"][\"content\"]\n",
    "\n",
    "    return content"
   ]
  },
  {
   "cell_type": "markdown",
   "metadata": {},
   "source": [
    "#### 4. **Evaluate Quality**\n",
    "\n",
    "* So far, there has been no feedback loop to judge the quality of the responses other than checking the results manually (A.K.A vibe). \n",
    "\n",
    "* This is called **blind prompting** and it's only fine when our prompts are used temporally for a single task and rarely visited.\n",
    "\n",
    "* If we are planning to use the same prompt for an application, then we need to be more rigorous with measuring the results. \n",
    "\n",
    "* This is because when a new LLM model is released, or a new version of the same LLM model is released, there is no guarantee a prompt that works on the older model/version would work on the new model/version.  "
   ]
  },
  {
   "cell_type": "markdown",
   "metadata": {},
   "source": [
    "How to evaluate?\n",
    "\n",
    "* **Step 1**: Generate a number of prompts for a task\n",
    "* **Step 2**: get a response for *multiple* runs for each prompt \n",
    "* **Step 3**: save results in a file\n",
    "* **Step 4**: evaluate each of the responses using one of the below strategies, which is best done blind and randomised to avoid favouring one prompt over another\n",
    "\n",
    "**Strategies**:\n",
    "\n",
    "* Simple thumps-up/down rating system\n",
    "* 3, 5, or 10 points rating system \n",
    "* Use a ground-truth\n",
    "* Use an LLM as judge"
   ]
  },
  {
   "cell_type": "markdown",
   "metadata": {},
   "source": [
    "<span style=\"color:green\">\n",
    "    <p>Task:</p>\n",
    "    <ul>\n",
    "        <li>Iterate through <strong>2 prompts</strong></li>\n",
    "        <li>For each prompt, iterate through <strong>3 runs</strong></li>\n",
    "        <li>Give each prompt and run a name</li>\n",
    "        <li>Get a response from the model</li>\n",
    "        <li>Convert responses into a dataframe</li>\n",
    "        <li>Save the dataframe as a CSV file</li>\n",
    "    </ul>\n",
    "</span>"
   ]
  },
  {
   "cell_type": "code",
   "execution_count": null,
   "metadata": {},
   "outputs": [],
   "source": [
    "prompt_1 = \"\"\"Product description: A pair of shoes that can fit any foot size.\n",
    "Seed words: adaptable, fit, omni-fit.\n",
    "Product names:\"\"\"\n",
    "\n",
    "prompt_2 = \"\"\"Product description: A home milkshake maker.\n",
    "Seed words: fast, healthy, compact.\n",
    "Product names: HomeShaker, Fit Shaker, QuickShake, Shake Maker\n",
    "\n",
    "Product description: A watch that can tell accurate time in space.\n",
    "Seed words: astronaut, space-hardened, eliptical orbit\n",
    "Product names: AstroTime, SpaceGuard, Orbit-Accurate, EliptoTime.\n",
    "\n",
    "Product description: A pair of shoes that can fit any foot size.\n",
    "Seed words: adaptable, fit, omni-fit.\n",
    "Product names:\"\"\""
   ]
  },
  {
   "cell_type": "code",
   "execution_count": null,
   "metadata": {},
   "outputs": [],
   "source": [
    "prompts = [prompt_1, prompt_2]\n",
    "responses = []\n",
    "no_runs = 3\n",
    "\n",
    "for ind, prompt in enumerate(prompts):\n",
    "    for run in range(no_runs):\n",
    "        variant = f\"{ind}_{run}\"\n",
    "        response = get_completion(prompt)\n",
    "        variant = f\"{ind}_{run}\"\n",
    "\n",
    "        data = {\n",
    "            \"variant\": variant,\n",
    "            \"prompt\": prompt,\n",
    "            \"response\": response,\n",
    "        }\n",
    "\n",
    "        responses.append(data)\n",
    "\n",
    "df = pd.DataFrame(responses)\n",
    "\n",
    "df.to_csv(\"data/responses.csv\", index=False)"
   ]
  },
  {
   "cell_type": "code",
   "execution_count": null,
   "metadata": {},
   "outputs": [],
   "source": [
    "display(df)"
   ]
  },
  {
   "cell_type": "code",
   "execution_count": null,
   "metadata": {},
   "outputs": [],
   "source": [
    "# load the responses.csv file\n",
    "df = pd.read_csv(\"data/responses.csv\")\n",
    "\n",
    "# Shuffle the dataframe\n",
    "df = df.sample(frac=1).reset_index(drop=True)\n",
    "\n",
    "# df is your dataframe and 'response' is the column with text to test\n",
    "response_index = 0\n",
    "# add a new column to store feedback\n",
    "df[\"feedback\"] = pd.Series(dtype=\"str\")\n",
    "\n",
    "\n",
    "def on_button_clicked(b):\n",
    "    global response_index\n",
    "    #  convert thumbs up / down to 1 / 0\n",
    "    user_feedback = 1 if b.description == \"\\U0001f44d\" else 0\n",
    "\n",
    "    # update the feedback column\n",
    "    df.at[response_index, \"feedback\"] = user_feedback\n",
    "\n",
    "    response_index += 1\n",
    "    if response_index < len(df):\n",
    "        update_response()\n",
    "    else:\n",
    "        df.to_csv(\"results.csv\", index=False)\n",
    "\n",
    "        print(\"A/B testing completed. Here's the results:\")\n",
    "        # Calculate score and num rows for each variant\n",
    "        summary_df = (\n",
    "            df.groupby(\"variant\")\n",
    "            .agg(count=(\"feedback\", \"count\"), score=(\"feedback\", \"mean\"))\n",
    "            .reset_index()\n",
    "        )\n",
    "        print(summary_df)\n",
    "\n",
    "\n",
    "def update_response():\n",
    "    new_response = df.iloc[response_index][\"response\"]\n",
    "    if pd.notna(new_response):\n",
    "        new_response = \"<p>\" + new_response + \"</p>\"\n",
    "    else:\n",
    "        new_response = \"<p>No response</p>\"\n",
    "    response.value = new_response\n",
    "    count_label.value = f\"Response: {response_index + 1}\"\n",
    "    count_label.value += f\"/{len(df)}\"\n",
    "\n",
    "\n",
    "response = widgets.HTML()\n",
    "count_label = widgets.Label()\n",
    "\n",
    "update_response()\n",
    "\n",
    "thumbs_up_button = widgets.Button(description=\"\\U0001f44d\")\n",
    "thumbs_up_button.on_click(on_button_clicked)\n",
    "\n",
    "thumbs_down_button = widgets.Button(description=\"\\U0001f44e\")\n",
    "thumbs_down_button.on_click(on_button_clicked)\n",
    "\n",
    "button_box = widgets.HBox([thumbs_down_button, thumbs_up_button])\n",
    "\n",
    "display(response, button_box, count_label)"
   ]
  }
 ],
 "metadata": {
  "kernelspec": {
   "display_name": ".venv",
   "language": "python",
   "name": "python3"
  },
  "language_info": {
   "codemirror_mode": {
    "name": "ipython",
    "version": 3
   },
   "file_extension": ".py",
   "mimetype": "text/x-python",
   "name": "python",
   "nbconvert_exporter": "python",
   "pygments_lexer": "ipython3",
   "version": "3.10.8"
  }
 },
 "nbformat": 4,
 "nbformat_minor": 2
}
