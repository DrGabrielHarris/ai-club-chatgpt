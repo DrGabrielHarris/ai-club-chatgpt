{
 "cells": [
  {
   "cell_type": "code",
   "execution_count": 1,
   "metadata": {},
   "outputs": [],
   "source": [
    "import os\n",
    "\n",
    "from dotenv import load_dotenv\n",
    "from openai import OpenAI"
   ]
  },
  {
   "cell_type": "code",
   "execution_count": 2,
   "metadata": {},
   "outputs": [],
   "source": [
    "load_dotenv(\".env\")\n",
    "api_key = os.getenv(\"OPENAI_API_KEY\")\n",
    "\n",
    "client = OpenAI(api_key=api_key)"
   ]
  },
  {
   "cell_type": "code",
   "execution_count": 3,
   "metadata": {},
   "outputs": [],
   "source": [
    "def get_completion(prompt, model=\"gpt-4o-mini\"):\n",
    "    completion = client.chat.completions.create(\n",
    "        model=model,\n",
    "        messages=[{\"role\": \"user\", \"content\": prompt}],\n",
    "        max_tokens=100,\n",
    "        temperature=0.9,\n",
    "        response_format={\n",
    "            \"type\": \"text\",\n",
    "        },\n",
    "    )\n",
    "\n",
    "    completion = completion.to_dict()\n",
    "\n",
    "    content = completion[\"choices\"][0][\"message\"][\"content\"]\n",
    "\n",
    "    return content"
   ]
  },
  {
   "cell_type": "code",
   "execution_count": 4,
   "metadata": {},
   "outputs": [],
   "source": [
    "def generate_image(prompt):\n",
    "    response = client.images.generate(\n",
    "        model=\"dall-e-2\",\n",
    "        prompt=prompt,\n",
    "        size=\"1024x1024\",\n",
    "        n=1,\n",
    "    )\n",
    "\n",
    "    url = response.data[0].url\n",
    "\n",
    "    return url"
   ]
  },
  {
   "cell_type": "markdown",
   "metadata": {},
   "source": [
    "#### 1. **Give Direction**\n",
    "\n",
    "Human would also struggle to complete a task without a good brief. Imagine what context a human might need for a task and try including it in the prompt.\n",
    "\n",
    "**Strategies**:\n",
    "\n",
    "* Role-playing\n",
    "* Prewarming or internal retrieval\n",
    "* Best advice"
   ]
  },
  {
   "cell_type": "markdown",
   "metadata": {},
   "source": [
    "**Role-playing**: find a persona (who is famous in the training data) to emulate their style"
   ]
  },
  {
   "cell_type": "markdown",
   "metadata": {},
   "source": [
    "<span style=\"color:green\">\n",
    "Task: Use your favourite persona/brand to give direction\n",
    "</span>"
   ]
  },
  {
   "cell_type": "code",
   "execution_count": null,
   "metadata": {},
   "outputs": [],
   "source": [
    "prompt = \"Brainstorm a list of product names for a pair of trainers that appeal to teenagers, in the style of Nike.\"\n",
    "\n",
    "get_completion(prompt)"
   ]
  },
  {
   "cell_type": "markdown",
   "metadata": {},
   "source": [
    "**Prewarming or internal retrieval**: ask chatGPT for best practice advice, then ask it to follow its own advice"
   ]
  },
  {
   "cell_type": "markdown",
   "metadata": {},
   "source": [
    "<span style=\"color:green\">\n",
    "Task: ask chatGPT for advice, then use its advice\n",
    "</span>"
   ]
  },
  {
   "cell_type": "code",
   "execution_count": null,
   "metadata": {},
   "outputs": [],
   "source": [
    "prompt = \"Please give me 5 tips for naming products based on expert industry advice.\"\n",
    "advice = get_completion(prompt)\n",
    "advice"
   ]
  },
  {
   "cell_type": "code",
   "execution_count": null,
   "metadata": {},
   "outputs": [],
   "source": [
    "prompt = f\"\"\"\n",
    "Using the following advice:\n",
    "\n",
    "{advice}\n",
    "\n",
    "Brainstorm a list of product names for a pair of trainers that appeal to teenagers, in the style of Nike.\n",
    "\"\"\"\n",
    "\n",
    "get_completion(prompt)"
   ]
  },
  {
   "cell_type": "markdown",
   "metadata": {},
   "source": [
    "**Best advice**: take the best advice you can find for the task and use it"
   ]
  },
  {
   "cell_type": "markdown",
   "metadata": {},
   "source": [
    "<span style=\"color:green\">\n",
    "Task: Use the <a href=\"https://www.brandwatch.com/blog/how-to-name-a-product-our-5-golden-rules/\" style=\"color:blue\">5 Golden Rules</a> for naming a product\n",
    "</span>"
   ]
  },
  {
   "cell_type": "code",
   "execution_count": 8,
   "metadata": {},
   "outputs": [],
   "source": [
    "rules = \"\"\"\n",
    "1. It should be readable and writable\n",
    "If your product name is hard to pronounce, people won’t talk about it and if they can’t write it down (and spell it correctly!) when they hear it, how do you expect them to Google it?\n",
    "\n",
    "Keep it simple and don’t go with any wacky spellings just for the sake of it.\n",
    "\n",
    "2. It should be unique\n",
    "It’s very hard in this day and age to be completely unique, so you can give yourself a bit of leeway, but your product name should at least be unique to your industry.\n",
    "\n",
    "This makes it much easier to get the domain, do well in search and know that when someone says the name, they mean your product.\n",
    "\n",
    "3. It should be short, punchy and memorable\n",
    "The longer the name, the harder it is to grab people.\n",
    "\n",
    "Longer names also mean people resort to abbreviations that you often don’t get to control.\n",
    "\n",
    "4. It should look good written down and sound cool to say\n",
    "You want your product name to jump off the page and stand out next to all the other boring words around it.\n",
    "\n",
    "When someone says it in a sentence it should stand out so everyone around pays attention.\n",
    "\n",
    "5. It should evoke an emotion, feeling or idea\n",
    "Your product name should tie back into what your product is, what the feeling you want people to have when experiencing your product is, and/or what idea are you trying to get across.\n",
    "\n",
    "It should be emotive and inspiring\n",
    "\"\"\""
   ]
  },
  {
   "cell_type": "code",
   "execution_count": null,
   "metadata": {},
   "outputs": [],
   "source": [
    "prompt = f\"\"\"\n",
    "Using the following 5 golden rules:\n",
    "\n",
    "{rules}\n",
    "\n",
    "Brainstorm a list of product names for a pair of trainers that appeal to teenagers, in the style of Nike.\n",
    "\"\"\"\n",
    "\n",
    "get_completion(prompt)"
   ]
  },
  {
   "cell_type": "markdown",
   "metadata": {},
   "source": [
    "**Trade-off**: too much direction can cause the model to quickly get into a conflicting combination that it can't resolve. While too much direction can narrow the creativity of the model, too little direction is the more common problem"
   ]
  },
  {
   "cell_type": "markdown",
   "metadata": {},
   "source": [
    "The same strategies can also be used for image generation, for example:\n",
    "\n",
    "* Scene setting: specify the scene \n",
    "* Role-playing: specify a familiar artist name \n",
    "* Ask for advice: ask GPT to generate a prompt that you can then use"
   ]
  },
  {
   "cell_type": "markdown",
   "metadata": {},
   "source": [
    "<span style=\"color:green\">\n",
    "Task: Generate an image of WALL-E\n",
    "</span>"
   ]
  },
  {
   "cell_type": "code",
   "execution_count": null,
   "metadata": {},
   "outputs": [],
   "source": [
    "prompt = \"An image WALL-E.\"\n",
    "\n",
    "generate_image(prompt)"
   ]
  },
  {
   "cell_type": "markdown",
   "metadata": {},
   "source": [
    "<span style=\"color:green\">\n",
    "Task: Give directions to setup the scene and the style\n",
    "</span>"
   ]
  },
  {
   "cell_type": "code",
   "execution_count": null,
   "metadata": {},
   "outputs": [],
   "source": [
    "prompt = \"An image of WALL-E in space, in the style of Salvador Dalí.\"\n",
    "\n",
    "generate_image(prompt)"
   ]
  },
  {
   "cell_type": "markdown",
   "metadata": {},
   "source": [
    "<span style=\"color:green\">\n",
    "Task: Ask GPT for advice on the best prompt to recreate WALL-E from the movie.\n",
    "</span>"
   ]
  },
  {
   "cell_type": "code",
   "execution_count": null,
   "metadata": {},
   "outputs": [],
   "source": [
    "prompt = \"Please give me a prompt for generating an image of WALL-E from the Pixar movie.\"\n",
    "advice = get_completion(prompt)\n",
    "advice"
   ]
  },
  {
   "cell_type": "code",
   "execution_count": null,
   "metadata": {},
   "outputs": [],
   "source": [
    "generate_image(advice)"
   ]
  }
 ],
 "metadata": {
  "kernelspec": {
   "display_name": ".venv",
   "language": "python",
   "name": "python3"
  },
  "language_info": {
   "codemirror_mode": {
    "name": "ipython",
    "version": 3
   },
   "file_extension": ".py",
   "mimetype": "text/x-python",
   "name": "python",
   "nbconvert_exporter": "python",
   "pygments_lexer": "ipython3",
   "version": "3.10.8"
  }
 },
 "nbformat": 4,
 "nbformat_minor": 2
}
